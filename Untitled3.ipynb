{
  "nbformat": 4,
  "nbformat_minor": 0,
  "metadata": {
    "colab": {
      "provenance": []
    },
    "kernelspec": {
      "name": "python3",
      "display_name": "Python 3"
    },
    "language_info": {
      "name": "python"
    }
  },
  "cells": [
    {
      "cell_type": "code",
      "execution_count": null,
      "metadata": {
        "id": "zAkmGQNqFdlg"
      },
      "outputs": [],
      "source": [
        "import requests\n",
        "from bs4 import BeautifulSoup"
      ]
    },
    {
      "cell_type": "code",
      "source": [
        "url = 'https://fakelfc.ru/'\n",
        "res = requests.get(url)\n",
        "print(res.status_code)"
      ],
      "metadata": {
        "colab": {
          "base_uri": "https://localhost:8080/"
        },
        "id": "HDLgsydpFwH-",
        "outputId": "e1d2905f-f3d5-4b4b-c33c-6846a39dac0d"
      },
      "execution_count": null,
      "outputs": [
        {
          "output_type": "stream",
          "name": "stdout",
          "text": [
            "200\n"
          ]
        }
      ]
    },
    {
      "cell_type": "code",
      "source": [
        "import requests\n",
        "from bs4 import BeautifulSoup\n",
        "url = 'https://mc.yandex.ru/clmap/71539441?page-url=https%3A%2F%2Ffakelfc.ru%2Fmatches-table&pointer-click=rn%3A430350373%3Ax%3A9144%3Ay%3A14894%3At%3A2540%3Ap%3AWWWWA1A1A1%C2%82AA1AAAA1A%3AX%3A373%3AY%3A298&browser-info=u%3A1698648800313696164%3Av%3A1201%3Avf%3A6mv6as6uisvb013c1v54fizj%3Arqnl%3A1%3Ast%3A1704656075&t=gdpr(14)ti(1)'\n",
        "res = requests.get(url)\n",
        "soup = BeautifulSoup(res.content, \"lxml\")\n",
        "soup"
      ],
      "metadata": {
        "colab": {
          "base_uri": "https://localhost:8080/"
        },
        "id": "MlZrSSrVVW7W",
        "outputId": "c9bcf5f0-a2de-4fbe-cde2-c4cc6bbe64da"
      },
      "execution_count": null,
      "outputs": [
        {
          "output_type": "execute_result",
          "data": {
            "text/plain": [
              "<html><body><p>GIF89a  €        !ù    ,       D ;</p></body></html>"
            ]
          },
          "metadata": {},
          "execution_count": 8
        }
      ]
    },
    {
      "cell_type": "code",
      "source": [
        "soup = BeautifulSoup(res.content, \"lxml\")"
      ],
      "metadata": {
        "id": "Bcda5jzhF9xf"
      },
      "execution_count": null,
      "outputs": []
    },
    {
      "cell_type": "code",
      "source": [
        "soup"
      ],
      "metadata": {
        "id": "0KT2EVi3GFwY"
      },
      "execution_count": null,
      "outputs": []
    },
    {
      "cell_type": "code",
      "source": [
        "heroSlide__photo = soup.find('div', class_='heroSlide__photo-item').get('style')[21:-1]\n",
        "heroSlide__photo"
      ],
      "metadata": {
        "colab": {
          "base_uri": "https://localhost:8080/",
          "height": 35
        },
        "id": "3oF-cj1GG99f",
        "outputId": "bc7f520e-654b-4159-baf2-8695f924f5c1"
      },
      "execution_count": null,
      "outputs": [
        {
          "output_type": "execute_result",
          "data": {
            "text/plain": [
              "'https://fakelfc.storage.yandexcloud.net/76849/657611c125239_IMG_9001.JPG'"
            ],
            "application/vnd.google.colaboratory.intrinsic+json": {
              "type": "string"
            }
          },
          "metadata": {},
          "execution_count": 31
        }
      ]
    },
    {
      "cell_type": "code",
      "source": [
        "heroSlide__title = soup.find('div', class_='heroSlide__title').text\n",
        "heroSlide__title"
      ],
      "metadata": {
        "colab": {
          "base_uri": "https://localhost:8080/",
          "height": 35
        },
        "id": "fE94l37zJ7SX",
        "outputId": "6251d4b4-530e-4a42-aafd-cf087f6533d2"
      },
      "execution_count": null,
      "outputs": [
        {
          "output_type": "execute_result",
          "data": {
            "text/plain": [
              "'Ушли на зимний перерыв'"
            ],
            "application/vnd.google.colaboratory.intrinsic+json": {
              "type": "string"
            }
          },
          "metadata": {},
          "execution_count": 23
        }
      ]
    },
    {
      "cell_type": "code",
      "source": [
        "def get_text(x):\n",
        "  return x.text.strip()\n",
        "\n",
        "def get_photo_text(x):\n",
        "  return x.get('style')[21:-1]\n",
        "\n",
        "def get_link_text(x):\n",
        "  return x.get('href')\n",
        "\n",
        "# news_type = list(map(get_text, soup.find('div', class_='hero__bottomSlider').findAll('div', class_='card__type', string=True, limit=5)))\n",
        "# news_date = list(map(get_text, soup.find('div', class_='hero__bottomSlider').findAll('div', class_='card__date', string=True, limit=5)))\n",
        "# news_title = list(map(get_text, soup.find('div', class_='hero__bottomSlider').findAll('div', class_='card__title', string=True, limit=5)))\n",
        "# news_photo = list(map(get_photo_text, soup.find('div', class_='hero__bottomSlider').findAll('div', class_='card__photo', string=True, limit=5)))\n",
        "news_link = list(map(get_link_text, soup.find('div', class_='hero__bottomSlider').findAll('a', limit=5)))\n",
        "news_link"
      ],
      "metadata": {
        "colab": {
          "base_uri": "https://localhost:8080/"
        },
        "id": "iigciT14MNAf",
        "outputId": "299f9d5d-a250-4204-c289-f483c475b0e3"
      },
      "execution_count": null,
      "outputs": [
        {
          "output_type": "execute_result",
          "data": {
            "text/plain": [
              "['https://fakelfc.ru/news/view/9344-ivahnov-budet-igrat-za-sokol',\n",
              " 'https://fakelfc.ru/news/view/9343-plan-zimnih-sborov-fakela',\n",
              " 'https://fakelfc.ru/media/videos/2180-fakel-dinamo-or-vokrug-matcha',\n",
              " 'https://fakelfc.ru/media/videos/2179-fakel-dinamo-or-press-konferenciya',\n",
              " 'https://fakelfc.ru/news/view/9342-fakel-dinamo-or-obzor-matcha']"
            ]
          },
          "metadata": {},
          "execution_count": 7
        }
      ]
    },
    {
      "cell_type": "code",
      "source": [
        "# game_link = soup.find('div', class_='card card--match card--border card--md').find('a').get('href')\n",
        "# game_type = soup.find('div', class_='card card--match card--border card--md').find('div', class_='card__type').text[1:]\n",
        "# game_date = soup.find('div', class_='card card--match card--border card--md').find('div', class_='card__date').text\n",
        "# game_score = list(map(get_text, soup.find('div', class_='card card--match card--border card--md').findAll('span', class_='colorBlack')))\n",
        "# game_team_home = soup.find('div', class_='versusBattle__teamTitle colorPrimary').text\n",
        "# game_logo = list(map(lambda x: x.find('img').get('data-pagespeed-lazy-src'), soup.findAll('div', class_='versusBattle__teamLogo')))\n",
        "# game_team_away = soup.find('div', class_='versusBattle__teamTitle').text\n",
        "# game_info = list(map(lambda x: x.text.replace('\\n', ''), soup.find('ul', class_='card__info').findAll('li')))\n",
        "game_logo"
      ],
      "metadata": {
        "colab": {
          "base_uri": "https://localhost:8080/"
        },
        "id": "54sAx0rtjiLJ",
        "outputId": "92c5f719-3e80-4e57-e99a-8e62807392c4"
      },
      "execution_count": null,
      "outputs": [
        {
          "output_type": "execute_result",
          "data": {
            "text/plain": [
              "['https://fakelfc.storage.yandexcloud.net/rival/1/73184/63986b8a7d47d_%D0%91%D0%B5%D0%B7_%D0%B8%D0%BC%D0%B5%D0%BD%D0%B8-1.png',\n",
              " 'https://fakelfc.storage.yandexcloud.net/rival/3/60c93b39b7cc1.png']"
            ]
          },
          "metadata": {},
          "execution_count": 24
        }
      ]
    },
    {
      "cell_type": "code",
      "source": [
        "table_teams = []"
      ],
      "metadata": {
        "id": "j5v5zPAVMZdc"
      },
      "execution_count": null,
      "outputs": []
    },
    {
      "cell_type": "code",
      "source": [
        "# team_place = list(map(lambda x: x.findAll('td')[1].text, soup.find('div', class_='tablePoints__body').find('tbody').findAll('tr')))\n",
        "# team_logo = list(map(lambda x: x.findAll('td')[2].find('img').get('data-pagespeed-lazy-src'), soup.find('div', class_='tablePoints__body').find('tbody').findAll('tr')))\n",
        "# team_name = list(map(lambda x: x.findAll('td')[3].text, soup.find('div', class_='tablePoints__body').find('tbody').findAll('tr')))\n",
        "# team_game = list(map(lambda x: x.findAll('td')[4].text, soup.find('div', class_='tablePoints__body').find('tbody').findAll('tr')))\n",
        "# team_points = list(map(lambda x: x.findAll('td')[5].text, soup.find('div', class_='tablePoints__body').find('tbody').findAll('tr')))\n",
        "# team_goals = list(map(lambda x: x.findAll('td')[6].text.replace('\\n', ' '), soup.find('div', class_='tablePoints__body').find('tbody').findAll('tr')))\n",
        "team_wins = list(map(lambda x: x.findAll('td')[7].text, soup.find('div', class_='tablePoints__body').find('tbody').findAll('tr')))\n",
        "team_draws = list(map(lambda x: x.findAll('td')[8].text, soup.find('div', class_='tablePoints__body').find('tbody').findAll('tr')))\n",
        "team_loses = list(map(lambda x: x.findAll('td')[9].text, soup.find('div', class_='tablePoints__body').find('tbody').findAll('tr')))\n",
        "team_loses"
      ],
      "metadata": {
        "colab": {
          "base_uri": "https://localhost:8080/"
        },
        "id": "A3iJacnKOMOZ",
        "outputId": "8b29a9a3-f89e-41a7-efab-e1ebf2bb19e1"
      },
      "execution_count": null,
      "outputs": [
        {
          "output_type": "execute_result",
          "data": {
            "text/plain": [
              "['8', '7', '7', '9', '9']"
            ]
          },
          "metadata": {},
          "execution_count": 38
        }
      ]
    }
  ]
}